{
  "cells": [
    {
      "cell_type": "markdown",
      "metadata": {
        "id": "aeF4qTmfveeb"
      },
      "source": [
        "## About iPython Notebooks ##\n",
        "\n",
        "iPython Notebooks are interactive coding environments embedded in a webpage. You will be using iPython notebooks in this class. Make sure you fill in any place that says `# BEGIN CODE HERE #END CODE HERE`. After writing your code, you can run the cell by either pressing \"SHIFT\"+\"ENTER\" or by clicking on \"Run\" (denoted by a play symbol). Before you turn this problem in, make sure everything runs as expected. First, **restart the kernel** (in the menubar, select Kernel$\\rightarrow$Restart) and then **run all cells** (in the menubar, select Cell$\\rightarrow$Run All). \n",
        "\n",
        " **What you need to remember:**\n",
        "\n",
        "- Run your cells using SHIFT+ENTER (or \"Run cell\")\n",
        "- Write code in the designated areas using Python 3 only\n",
        "- Do not modify the code outside of the designated areas\n",
        "- In some cases you will also need to explain the results. There will also be designated areas for that. \n",
        "\n",
        "Fill in your **NAME** and **AEM** below:"
      ]
    },
    {
      "cell_type": "code",
      "execution_count": 1,
      "metadata": {
        "id": "ZCY3tJjnveei"
      },
      "outputs": [],
      "source": [
        "NAME = \"Ioannis Kallimanis\"\n",
        "AEM = \"10007\""
      ]
    },
    {
      "cell_type": "markdown",
      "metadata": {
        "id": "lpED3Vwlveek"
      },
      "source": [
        "---"
      ]
    },
    {
      "cell_type": "markdown",
      "metadata": {
        "deletable": false,
        "editable": false,
        "id": "0LK7HlL9r2k1",
        "nbgrader": {
          "cell_type": "markdown",
          "checksum": "ccc99a100da955945679879e451af2f7",
          "grade": false,
          "grade_id": "cell-62cb5c0bfe7b0be0",
          "locked": true,
          "schema_version": 3,
          "solution": false
        }
      },
      "source": [
        "# Assignment 1 - Linear Models #"
      ]
    },
    {
      "cell_type": "markdown",
      "metadata": {
        "deletable": false,
        "editable": false,
        "id": "Ww0lVWmTsBOF",
        "nbgrader": {
          "cell_type": "markdown",
          "checksum": "95ccc5bf6599c4fefd13589ec56ecf36",
          "grade": false,
          "grade_id": "cell-61376cfdc59ad4b7",
          "locked": true,
          "schema_version": 3,
          "solution": false
        }
      },
      "source": [
        "Welcome to your first assignment. This exercise gives you a brief introduction to Python and the fundamental libraries for machine learning. It also gives you a wide understanding on how linear models work.  "
      ]
    },
    {
      "cell_type": "markdown",
      "metadata": {
        "deletable": false,
        "editable": false,
        "id": "gK7GYZ6ouIGC",
        "nbgrader": {
          "cell_type": "markdown",
          "checksum": "4b163a472e31417e98fd907a65646e15",
          "grade": false,
          "grade_id": "cell-e2c88db06666ef54",
          "locked": true,
          "schema_version": 3,
          "solution": false
        }
      },
      "source": [
        "After this assignment you will:\n",
        "- Be able to use iPython Notebooks\n",
        "- Be able to use basic numpy and pandas functions\n",
        "- Be able to build your first linear model from scratch\n",
        "- Be able to use the basic functions of scikit-learn "
      ]
    },
    {
      "cell_type": "markdown",
      "metadata": {
        "deletable": false,
        "editable": false,
        "id": "lzpRolujz4zs",
        "nbgrader": {
          "cell_type": "markdown",
          "checksum": "5e46c1d92818113136db5ec1fb85219d",
          "grade": false,
          "grade_id": "cell-36315b2ebbf1eecb",
          "locked": true,
          "schema_version": 3,
          "solution": false
        }
      },
      "source": [
        "## 1. Numpy & Pandas ##\n",
        "\n",
        "The [**NumPy**](https://numpy.org/) library is the core library for scientific computing in Python. It provides a high-performance multidimensional array object, and tools for working with these arrays. \n",
        "\n",
        "The [**Pandas**](https://pandas.pydata.org/) library is built on NumPy and provides easy-to-use data structures and data analysis tools for the Python programming language.\n",
        "\n",
        "Feel free to look at the documentation ([NumPy Doc](https://numpy.org/doc/1.18/user/quickstart.html) & [Pandas Doc](https://pandas.pydata.org/docs/)) of those libraries troughout this assignment. \n",
        "\n",
        "As a convention we always import the libraries as follows: "
      ]
    },
    {
      "cell_type": "code",
      "execution_count": 2,
      "metadata": {
        "id": "ydtbUhRK1Mwd"
      },
      "outputs": [],
      "source": [
        "# Run this cell\n",
        "import numpy as np\n",
        "import pandas as pd"
      ]
    },
    {
      "cell_type": "markdown",
      "metadata": {
        "deletable": false,
        "editable": false,
        "id": "R047IOKS0jbm",
        "nbgrader": {
          "cell_type": "markdown",
          "checksum": "304a9d8a950eeccee8131d7bb8096ca6",
          "grade": false,
          "grade_id": "cell-72e9db57f4d96a10",
          "locked": true,
          "schema_version": 3,
          "solution": false
        }
      },
      "source": [
        "### 1.1 The very basic of NumPy ### (1 points)"
      ]
    },
    {
      "cell_type": "markdown",
      "metadata": {
        "deletable": false,
        "editable": false,
        "id": "dDa8wbkp3tcJ",
        "nbgrader": {
          "cell_type": "markdown",
          "checksum": "90c22b9e300426e6cb093bb63ea2efb0",
          "grade": false,
          "grade_id": "cell-3c71a9b8c65496dc",
          "locked": true,
          "schema_version": 3,
          "solution": false
        }
      },
      "source": [
        "**1.1.1 Exercise**: Create a 3-dimensional *NumPy* array (3x5) which contains the numbers 1-15 on variable 'a'. Moreover, create another *NumPy* array of dimensions (3x2) of random values (0 to 1) using the fucntions np.random.random on variable 'b'. *(An example of an expected outcome is also provided)*\n",
        "\n"
      ]
    },
    {
      "cell_type": "code",
      "execution_count": 3,
      "metadata": {
        "colab": {
          "base_uri": "https://localhost:8080/"
        },
        "deletable": false,
        "id": "sRd0XYXap0KQ",
        "nbgrader": {
          "cell_type": "code",
          "checksum": "3e508824af6ad4bc1c3b85153190a6af",
          "grade": false,
          "grade_id": "cell-fbaa0138d806f312",
          "locked": false,
          "schema_version": 3,
          "solution": true
        },
        "outputId": "c68af271-6595-42c3-d926-a3ba6a0d9e13"
      },
      "outputs": [
        {
          "output_type": "stream",
          "name": "stdout",
          "text": [
            "[[ 1  2  3  4  5]\n",
            " [ 6  7  8  9 10]\n",
            " [11 12 13 14 15]]\n",
            "[[0.37454012 0.95071431]\n",
            " [0.73199394 0.59865848]\n",
            " [0.15601864 0.15599452]]\n"
          ]
        }
      ],
      "source": [
        "np.random.seed(42)\n",
        "# BEGIN CODE HERE\n",
        "a = np.arange(1, 16).reshape(3, 5)\n",
        "b = np.random.random_sample((3, 2))\n",
        "# END CODE HERE\n",
        "print(a)\n",
        "print(b)"
      ]
    },
    {
      "cell_type": "markdown",
      "metadata": {
        "deletable": false,
        "editable": false,
        "id": "eEsIzDKU63UA",
        "nbgrader": {
          "cell_type": "markdown",
          "checksum": "c44c8b7d97443d43f4903ab0909a06c9",
          "grade": false,
          "grade_id": "cell-699269795ce87979",
          "locked": true,
          "schema_version": 3,
          "solution": false
        }
      },
      "source": [
        "**1.1.2 Exercise**: Perform the dot product of 'a' transpose with 'b' and assign the result to variable 'c' using Numpy. *(An example of an expected outcome is also provided, the produced matrix should have 5x2 dimensions)*"
      ]
    },
    {
      "cell_type": "code",
      "execution_count": 4,
      "metadata": {
        "colab": {
          "base_uri": "https://localhost:8080/"
        },
        "deletable": false,
        "id": "Z99j4XAs5Xwu",
        "nbgrader": {
          "cell_type": "code",
          "checksum": "32959e6aea2b9c289567d8f459b6a214",
          "grade": false,
          "grade_id": "cell-8a8a1d5b54c1a5b2",
          "locked": false,
          "schema_version": 3,
          "solution": true
        },
        "outputId": "1f36d2f9-b172-4b4b-a9f0-9bfbe2db0ddc"
      },
      "outputs": [
        {
          "output_type": "stream",
          "name": "stdout",
          "text": [
            "[[ 6.48270881  6.25860494]\n",
            " [ 7.74526152  7.96397225]\n",
            " [ 9.00781422  9.66933956]\n",
            " [10.27036692 11.37470687]\n",
            " [11.53291962 13.08007418]]\n"
          ]
        }
      ],
      "source": [
        "# BEGIN CODE HERE\n",
        "c = a.transpose().dot(b)\n",
        "# END CODE HERE\n",
        "print(c)"
      ]
    },
    {
      "cell_type": "markdown",
      "metadata": {
        "deletable": false,
        "editable": false,
        "id": "tySai5aIFVJC",
        "nbgrader": {
          "cell_type": "markdown",
          "checksum": "a6a9d4bbfed398d52187df7fcf1909b6",
          "grade": false,
          "grade_id": "cell-b207f4139851372d",
          "locked": true,
          "schema_version": 3,
          "solution": false
        }
      },
      "source": [
        "Two common numpy functions used are [np.shape](https://docs.scipy.org/doc/numpy/reference/generated/numpy.ndarray.shape.html) and [np.reshape()](https://docs.scipy.org/doc/numpy/reference/generated/numpy.reshape.html). \n",
        "- X.shape is used to get the shape (dimension) of a matrix/vector X. \n",
        "- X.reshape(...) is used to reshape X into some other dimension. "
      ]
    },
    {
      "cell_type": "markdown",
      "metadata": {
        "id": "BlzbLWeEyvo7"
      },
      "source": [
        "**1.1.3 Exercise**: Use the function **shape** to print the shape of variable **c** and the function **reshape** to change the dimensions of **c** from 5x2 to 1x10. *(An example of an expected outcome is also provided)*"
      ]
    },
    {
      "cell_type": "code",
      "execution_count": 5,
      "metadata": {
        "colab": {
          "base_uri": "https://localhost:8080/"
        },
        "id": "5QJUgXPIzN6Z",
        "outputId": "4d9f881d-aced-468f-cc57-5b7f55664270"
      },
      "outputs": [
        {
          "output_type": "stream",
          "name": "stdout",
          "text": [
            "shape_random_array: (5, 2)\n",
            "reshaped_one_array: [[ 6.48270881  6.25860494  7.74526152  7.96397225  9.00781422  9.66933956\n",
            "  10.27036692 11.37470687 11.53291962 13.08007418]]\n"
          ]
        }
      ],
      "source": [
        "np.random.seed(42)\n",
        "# BEGIN CODE HERE\n",
        "shape_c = np.shape(c) \n",
        "reshaped_c = c.reshape(1, 10)\n",
        "#END CODE HERE\n",
        "print(\"shape_random_array:\", shape_c)\n",
        "print(\"reshaped_one_array:\", reshaped_c)"
      ]
    },
    {
      "cell_type": "markdown",
      "metadata": {
        "deletable": false,
        "editable": false,
        "id": "o3DYNNXZIbYd",
        "nbgrader": {
          "cell_type": "markdown",
          "checksum": "69a8da5cff899b8dd1fa6b5e8e931a14",
          "grade": false,
          "grade_id": "cell-cea361d2c51faef2",
          "locked": true,
          "schema_version": 3,
          "solution": false
        }
      },
      "source": [
        "**1.1.4 Exercise**: Create an array of 9 evenly spaced values from 0 to 5 using the **np.linspace()** function. (An example of an expected outcome is also provided)"
      ]
    },
    {
      "cell_type": "code",
      "execution_count": 6,
      "metadata": {
        "colab": {
          "base_uri": "https://localhost:8080/"
        },
        "id": "Sv_Z5G63QxOd",
        "outputId": "03dd8846-eb48-4ded-df34-ac9aad1abd41"
      },
      "outputs": [
        {
          "output_type": "stream",
          "name": "stdout",
          "text": [
            "x: [0.    0.625 1.25  1.875 2.5   3.125 3.75  4.375 5.   ]\n"
          ]
        }
      ],
      "source": [
        "# BEGIN CODE HERE\n",
        "x = np.linspace(0.0, 5.0, num=9)\n",
        "\n",
        "#END CODE HERE\n",
        "print(\"x: \" + str(x))"
      ]
    },
    {
      "cell_type": "markdown",
      "metadata": {
        "id": "JRhZvHsYvFjV"
      },
      "source": [
        "**1.1.5 Exercise**: Create a dictionary (hashmap) containing two keys: *lin_space*, *dot_product* and assign them the variables **x**, and **c**, respectively. Then, you should retrieve the values of both keys and print them. (An example of an expected outcome is also provided)"
      ]
    },
    {
      "cell_type": "code",
      "execution_count": 7,
      "metadata": {
        "colab": {
          "base_uri": "https://localhost:8080/"
        },
        "id": "KEjffLTyv0IO",
        "outputId": "f73e9cb3-5e01-48c2-9219-2e96d06c646f"
      },
      "outputs": [
        {
          "output_type": "stream",
          "name": "stdout",
          "text": [
            "[0.    0.625 1.25  1.875 2.5   3.125 3.75  4.375 5.   ]\n",
            "[[ 6.48270881  6.25860494]\n",
            " [ 7.74526152  7.96397225]\n",
            " [ 9.00781422  9.66933956]\n",
            " [10.27036692 11.37470687]\n",
            " [11.53291962 13.08007418]]\n"
          ]
        }
      ],
      "source": [
        "# BEGIN CODE HERE\n",
        "hashmap = dict({\"lin_space\":x, \n",
        "                \"dot_product\":c})\n",
        "print(hashmap[\"lin_space\"])\n",
        "print(hashmap[\"dot_product\"])\n",
        "#END CODE HERE\n",
        "assert (isinstance(hashmap, dict))"
      ]
    },
    {
      "cell_type": "markdown",
      "metadata": {
        "deletable": false,
        "editable": false,
        "id": "V--bLaLSRE2y",
        "nbgrader": {
          "cell_type": "markdown",
          "checksum": "ad41b2945662342c1395087603adfc47",
          "grade": false,
          "grade_id": "cell-7c380b97c5fc06a2",
          "locked": true,
          "schema_version": 3,
          "solution": false
        }
      },
      "source": [
        "### 1.2 The very basics of Pandas ### (0.5)"
      ]
    },
    {
      "cell_type": "markdown",
      "metadata": {
        "deletable": false,
        "editable": false,
        "id": "xIHQMFo_RisD",
        "nbgrader": {
          "cell_type": "markdown",
          "checksum": "331ae06f92bb962955a2dda47cf6d015",
          "grade": false,
          "grade_id": "cell-b5ae015fc71a9d22",
          "locked": true,
          "schema_version": 3,
          "solution": false
        }
      },
      "source": [
        "- Read & Write CSV\n",
        "- slices"
      ]
    },
    {
      "cell_type": "markdown",
      "metadata": {
        "deletable": false,
        "editable": false,
        "id": "_41lZvsfCqAp",
        "nbgrader": {
          "cell_type": "markdown",
          "checksum": "a4356220fa477bd021de8d2235e3eeb4",
          "grade": false,
          "grade_id": "cell-35f23625c6db91ad",
          "locked": true,
          "schema_version": 3,
          "solution": false
        }
      },
      "source": [
        "**1.2.1 Exercise:** Read the file input.csv into a dataframe using the pandas read_csv() function. (An example of an expected outcome is also provided)\n",
        "\n"
      ]
    },
    {
      "cell_type": "code",
      "execution_count": 8,
      "metadata": {
        "colab": {
          "base_uri": "https://localhost:8080/",
          "height": 206
        },
        "id": "xwLYDfXeTqBM",
        "outputId": "0554eab9-e9e2-48ab-8e12-18ed42c27c94"
      },
      "outputs": [
        {
          "output_type": "execute_result",
          "data": {
            "text/plain": [
              "   age  sex  cp  trestbps  chol  fbs  restecg  thalach  exang  oldpeak  slope  \\\n",
              "0   63    1   3       145   233    1        0      150      0      2.3      0   \n",
              "1   37    1   2       130   250    0        1      187      0      3.5      0   \n",
              "2   41    0   1       130   204    0        0      172      0      1.4      2   \n",
              "3   56    1   1       120   236    0        1      178      0      0.8      2   \n",
              "4   57    0   0       120   354    0        1      163      1      0.6      2   \n",
              "\n",
              "   ca  thal  target  \n",
              "0   0     1       1  \n",
              "1   0     2       1  \n",
              "2   0     2       1  \n",
              "3   0     2       1  \n",
              "4   0     2       1  "
            ],
            "text/html": [
              "\n",
              "  <div id=\"df-d96f1e69-020b-4900-b76c-c2af9c5a753f\">\n",
              "    <div class=\"colab-df-container\">\n",
              "      <div>\n",
              "<style scoped>\n",
              "    .dataframe tbody tr th:only-of-type {\n",
              "        vertical-align: middle;\n",
              "    }\n",
              "\n",
              "    .dataframe tbody tr th {\n",
              "        vertical-align: top;\n",
              "    }\n",
              "\n",
              "    .dataframe thead th {\n",
              "        text-align: right;\n",
              "    }\n",
              "</style>\n",
              "<table border=\"1\" class=\"dataframe\">\n",
              "  <thead>\n",
              "    <tr style=\"text-align: right;\">\n",
              "      <th></th>\n",
              "      <th>age</th>\n",
              "      <th>sex</th>\n",
              "      <th>cp</th>\n",
              "      <th>trestbps</th>\n",
              "      <th>chol</th>\n",
              "      <th>fbs</th>\n",
              "      <th>restecg</th>\n",
              "      <th>thalach</th>\n",
              "      <th>exang</th>\n",
              "      <th>oldpeak</th>\n",
              "      <th>slope</th>\n",
              "      <th>ca</th>\n",
              "      <th>thal</th>\n",
              "      <th>target</th>\n",
              "    </tr>\n",
              "  </thead>\n",
              "  <tbody>\n",
              "    <tr>\n",
              "      <th>0</th>\n",
              "      <td>63</td>\n",
              "      <td>1</td>\n",
              "      <td>3</td>\n",
              "      <td>145</td>\n",
              "      <td>233</td>\n",
              "      <td>1</td>\n",
              "      <td>0</td>\n",
              "      <td>150</td>\n",
              "      <td>0</td>\n",
              "      <td>2.3</td>\n",
              "      <td>0</td>\n",
              "      <td>0</td>\n",
              "      <td>1</td>\n",
              "      <td>1</td>\n",
              "    </tr>\n",
              "    <tr>\n",
              "      <th>1</th>\n",
              "      <td>37</td>\n",
              "      <td>1</td>\n",
              "      <td>2</td>\n",
              "      <td>130</td>\n",
              "      <td>250</td>\n",
              "      <td>0</td>\n",
              "      <td>1</td>\n",
              "      <td>187</td>\n",
              "      <td>0</td>\n",
              "      <td>3.5</td>\n",
              "      <td>0</td>\n",
              "      <td>0</td>\n",
              "      <td>2</td>\n",
              "      <td>1</td>\n",
              "    </tr>\n",
              "    <tr>\n",
              "      <th>2</th>\n",
              "      <td>41</td>\n",
              "      <td>0</td>\n",
              "      <td>1</td>\n",
              "      <td>130</td>\n",
              "      <td>204</td>\n",
              "      <td>0</td>\n",
              "      <td>0</td>\n",
              "      <td>172</td>\n",
              "      <td>0</td>\n",
              "      <td>1.4</td>\n",
              "      <td>2</td>\n",
              "      <td>0</td>\n",
              "      <td>2</td>\n",
              "      <td>1</td>\n",
              "    </tr>\n",
              "    <tr>\n",
              "      <th>3</th>\n",
              "      <td>56</td>\n",
              "      <td>1</td>\n",
              "      <td>1</td>\n",
              "      <td>120</td>\n",
              "      <td>236</td>\n",
              "      <td>0</td>\n",
              "      <td>1</td>\n",
              "      <td>178</td>\n",
              "      <td>0</td>\n",
              "      <td>0.8</td>\n",
              "      <td>2</td>\n",
              "      <td>0</td>\n",
              "      <td>2</td>\n",
              "      <td>1</td>\n",
              "    </tr>\n",
              "    <tr>\n",
              "      <th>4</th>\n",
              "      <td>57</td>\n",
              "      <td>0</td>\n",
              "      <td>0</td>\n",
              "      <td>120</td>\n",
              "      <td>354</td>\n",
              "      <td>0</td>\n",
              "      <td>1</td>\n",
              "      <td>163</td>\n",
              "      <td>1</td>\n",
              "      <td>0.6</td>\n",
              "      <td>2</td>\n",
              "      <td>0</td>\n",
              "      <td>2</td>\n",
              "      <td>1</td>\n",
              "    </tr>\n",
              "  </tbody>\n",
              "</table>\n",
              "</div>\n",
              "      <button class=\"colab-df-convert\" onclick=\"convertToInteractive('df-d96f1e69-020b-4900-b76c-c2af9c5a753f')\"\n",
              "              title=\"Convert this dataframe to an interactive table.\"\n",
              "              style=\"display:none;\">\n",
              "        \n",
              "  <svg xmlns=\"http://www.w3.org/2000/svg\" height=\"24px\"viewBox=\"0 0 24 24\"\n",
              "       width=\"24px\">\n",
              "    <path d=\"M0 0h24v24H0V0z\" fill=\"none\"/>\n",
              "    <path d=\"M18.56 5.44l.94 2.06.94-2.06 2.06-.94-2.06-.94-.94-2.06-.94 2.06-2.06.94zm-11 1L8.5 8.5l.94-2.06 2.06-.94-2.06-.94L8.5 2.5l-.94 2.06-2.06.94zm10 10l.94 2.06.94-2.06 2.06-.94-2.06-.94-.94-2.06-.94 2.06-2.06.94z\"/><path d=\"M17.41 7.96l-1.37-1.37c-.4-.4-.92-.59-1.43-.59-.52 0-1.04.2-1.43.59L10.3 9.45l-7.72 7.72c-.78.78-.78 2.05 0 2.83L4 21.41c.39.39.9.59 1.41.59.51 0 1.02-.2 1.41-.59l7.78-7.78 2.81-2.81c.8-.78.8-2.07 0-2.86zM5.41 20L4 18.59l7.72-7.72 1.47 1.35L5.41 20z\"/>\n",
              "  </svg>\n",
              "      </button>\n",
              "      \n",
              "  <style>\n",
              "    .colab-df-container {\n",
              "      display:flex;\n",
              "      flex-wrap:wrap;\n",
              "      gap: 12px;\n",
              "    }\n",
              "\n",
              "    .colab-df-convert {\n",
              "      background-color: #E8F0FE;\n",
              "      border: none;\n",
              "      border-radius: 50%;\n",
              "      cursor: pointer;\n",
              "      display: none;\n",
              "      fill: #1967D2;\n",
              "      height: 32px;\n",
              "      padding: 0 0 0 0;\n",
              "      width: 32px;\n",
              "    }\n",
              "\n",
              "    .colab-df-convert:hover {\n",
              "      background-color: #E2EBFA;\n",
              "      box-shadow: 0px 1px 2px rgba(60, 64, 67, 0.3), 0px 1px 3px 1px rgba(60, 64, 67, 0.15);\n",
              "      fill: #174EA6;\n",
              "    }\n",
              "\n",
              "    [theme=dark] .colab-df-convert {\n",
              "      background-color: #3B4455;\n",
              "      fill: #D2E3FC;\n",
              "    }\n",
              "\n",
              "    [theme=dark] .colab-df-convert:hover {\n",
              "      background-color: #434B5C;\n",
              "      box-shadow: 0px 1px 3px 1px rgba(0, 0, 0, 0.15);\n",
              "      filter: drop-shadow(0px 1px 2px rgba(0, 0, 0, 0.3));\n",
              "      fill: #FFFFFF;\n",
              "    }\n",
              "  </style>\n",
              "\n",
              "      <script>\n",
              "        const buttonEl =\n",
              "          document.querySelector('#df-d96f1e69-020b-4900-b76c-c2af9c5a753f button.colab-df-convert');\n",
              "        buttonEl.style.display =\n",
              "          google.colab.kernel.accessAllowed ? 'block' : 'none';\n",
              "\n",
              "        async function convertToInteractive(key) {\n",
              "          const element = document.querySelector('#df-d96f1e69-020b-4900-b76c-c2af9c5a753f');\n",
              "          const dataTable =\n",
              "            await google.colab.kernel.invokeFunction('convertToInteractive',\n",
              "                                                     [key], {});\n",
              "          if (!dataTable) return;\n",
              "\n",
              "          const docLinkHtml = 'Like what you see? Visit the ' +\n",
              "            '<a target=\"_blank\" href=https://colab.research.google.com/notebooks/data_table.ipynb>data table notebook</a>'\n",
              "            + ' to learn more about interactive tables.';\n",
              "          element.innerHTML = '';\n",
              "          dataTable['output_type'] = 'display_data';\n",
              "          await google.colab.output.renderOutput(dataTable, element);\n",
              "          const docLink = document.createElement('div');\n",
              "          docLink.innerHTML = docLinkHtml;\n",
              "          element.appendChild(docLink);\n",
              "        }\n",
              "      </script>\n",
              "    </div>\n",
              "  </div>\n",
              "  "
            ]
          },
          "metadata": {},
          "execution_count": 8
        }
      ],
      "source": [
        "# BEGIN CODE HERE\n",
        "\n",
        "Dataset_path = \"/input.csv\"\n",
        "df = pd.read_csv(Dataset_path)\n",
        "\n",
        "#END CODE HERE\n",
        "df.head()"
      ]
    },
    {
      "cell_type": "markdown",
      "metadata": {
        "deletable": false,
        "editable": false,
        "id": "9XWwZLTRIarc",
        "nbgrader": {
          "cell_type": "markdown",
          "checksum": "336a187189c7f479e4f944734749377a",
          "grade": false,
          "grade_id": "cell-c4918726834a571d",
          "locked": true,
          "schema_version": 3,
          "solution": false
        }
      },
      "source": [
        "**1.2.2 Exercise:** Find the mean and std value of the *thalach* variable using **pandas**. (An example of an expected outcome is also provided)\n"
      ]
    },
    {
      "cell_type": "code",
      "execution_count": 9,
      "metadata": {
        "colab": {
          "base_uri": "https://localhost:8080/"
        },
        "id": "-gylgOk8VPPt",
        "outputId": "f875efaf-c250-456c-ebcd-3d80d5f568b3"
      },
      "outputs": [
        {
          "output_type": "stream",
          "name": "stdout",
          "text": [
            "Average: 149.64686468646866\n",
            "STD: 22.905161114914094\n"
          ]
        }
      ],
      "source": [
        "# BEGIN CODE HERE\n",
        "mean_thalach = df[\"thalach\"].mean()#...\n",
        "std_thalach = df[\"thalach\"].std()#...\n",
        "#END CODE HERE\n",
        "print(\"Average: \" + str(mean_thalach))\n",
        "print(\"STD: \" + str(std_thalach))"
      ]
    },
    {
      "cell_type": "markdown",
      "metadata": {
        "deletable": false,
        "editable": false,
        "id": "9QK8m9GRMNl4",
        "nbgrader": {
          "cell_type": "markdown",
          "checksum": "d0ff945d9969c0f8e85bfad047335b8e",
          "grade": false,
          "grade_id": "cell-320230170fd85580",
          "locked": true,
          "schema_version": 3,
          "solution": false
        }
      },
      "source": [
        "**1.2.3 Exercise:** Select the rows where *thalach*>150 and only the columns age, sex, cp, chol, target using **pandas**. (An example of an expected outcome is also provided)"
      ]
    },
    {
      "cell_type": "code",
      "execution_count": 10,
      "metadata": {
        "colab": {
          "base_uri": "https://localhost:8080/",
          "height": 423
        },
        "id": "pTSX1peCVc-G",
        "outputId": "2c066b84-fd0e-481e-b5d9-50ac8c76f0d3"
      },
      "outputs": [
        {
          "output_type": "execute_result",
          "data": {
            "text/plain": [
              "     age  sex  cp  chol  target\n",
              "1     37    1   2   250       1\n",
              "2     41    0   1   204       1\n",
              "3     56    1   1   236       1\n",
              "4     57    0   0   354       1\n",
              "6     56    0   1   294       1\n",
              "..   ...  ...  ..   ...     ...\n",
              "283   40    1   0   223       0\n",
              "286   59    1   3   204       0\n",
              "287   57    1   1   232       0\n",
              "290   61    1   0   203       0\n",
              "302   57    0   1   236       0\n",
              "\n",
              "[164 rows x 5 columns]"
            ],
            "text/html": [
              "\n",
              "  <div id=\"df-8545c630-1932-416a-abdf-7d2b0d438655\">\n",
              "    <div class=\"colab-df-container\">\n",
              "      <div>\n",
              "<style scoped>\n",
              "    .dataframe tbody tr th:only-of-type {\n",
              "        vertical-align: middle;\n",
              "    }\n",
              "\n",
              "    .dataframe tbody tr th {\n",
              "        vertical-align: top;\n",
              "    }\n",
              "\n",
              "    .dataframe thead th {\n",
              "        text-align: right;\n",
              "    }\n",
              "</style>\n",
              "<table border=\"1\" class=\"dataframe\">\n",
              "  <thead>\n",
              "    <tr style=\"text-align: right;\">\n",
              "      <th></th>\n",
              "      <th>age</th>\n",
              "      <th>sex</th>\n",
              "      <th>cp</th>\n",
              "      <th>chol</th>\n",
              "      <th>target</th>\n",
              "    </tr>\n",
              "  </thead>\n",
              "  <tbody>\n",
              "    <tr>\n",
              "      <th>1</th>\n",
              "      <td>37</td>\n",
              "      <td>1</td>\n",
              "      <td>2</td>\n",
              "      <td>250</td>\n",
              "      <td>1</td>\n",
              "    </tr>\n",
              "    <tr>\n",
              "      <th>2</th>\n",
              "      <td>41</td>\n",
              "      <td>0</td>\n",
              "      <td>1</td>\n",
              "      <td>204</td>\n",
              "      <td>1</td>\n",
              "    </tr>\n",
              "    <tr>\n",
              "      <th>3</th>\n",
              "      <td>56</td>\n",
              "      <td>1</td>\n",
              "      <td>1</td>\n",
              "      <td>236</td>\n",
              "      <td>1</td>\n",
              "    </tr>\n",
              "    <tr>\n",
              "      <th>4</th>\n",
              "      <td>57</td>\n",
              "      <td>0</td>\n",
              "      <td>0</td>\n",
              "      <td>354</td>\n",
              "      <td>1</td>\n",
              "    </tr>\n",
              "    <tr>\n",
              "      <th>6</th>\n",
              "      <td>56</td>\n",
              "      <td>0</td>\n",
              "      <td>1</td>\n",
              "      <td>294</td>\n",
              "      <td>1</td>\n",
              "    </tr>\n",
              "    <tr>\n",
              "      <th>...</th>\n",
              "      <td>...</td>\n",
              "      <td>...</td>\n",
              "      <td>...</td>\n",
              "      <td>...</td>\n",
              "      <td>...</td>\n",
              "    </tr>\n",
              "    <tr>\n",
              "      <th>283</th>\n",
              "      <td>40</td>\n",
              "      <td>1</td>\n",
              "      <td>0</td>\n",
              "      <td>223</td>\n",
              "      <td>0</td>\n",
              "    </tr>\n",
              "    <tr>\n",
              "      <th>286</th>\n",
              "      <td>59</td>\n",
              "      <td>1</td>\n",
              "      <td>3</td>\n",
              "      <td>204</td>\n",
              "      <td>0</td>\n",
              "    </tr>\n",
              "    <tr>\n",
              "      <th>287</th>\n",
              "      <td>57</td>\n",
              "      <td>1</td>\n",
              "      <td>1</td>\n",
              "      <td>232</td>\n",
              "      <td>0</td>\n",
              "    </tr>\n",
              "    <tr>\n",
              "      <th>290</th>\n",
              "      <td>61</td>\n",
              "      <td>1</td>\n",
              "      <td>0</td>\n",
              "      <td>203</td>\n",
              "      <td>0</td>\n",
              "    </tr>\n",
              "    <tr>\n",
              "      <th>302</th>\n",
              "      <td>57</td>\n",
              "      <td>0</td>\n",
              "      <td>1</td>\n",
              "      <td>236</td>\n",
              "      <td>0</td>\n",
              "    </tr>\n",
              "  </tbody>\n",
              "</table>\n",
              "<p>164 rows × 5 columns</p>\n",
              "</div>\n",
              "      <button class=\"colab-df-convert\" onclick=\"convertToInteractive('df-8545c630-1932-416a-abdf-7d2b0d438655')\"\n",
              "              title=\"Convert this dataframe to an interactive table.\"\n",
              "              style=\"display:none;\">\n",
              "        \n",
              "  <svg xmlns=\"http://www.w3.org/2000/svg\" height=\"24px\"viewBox=\"0 0 24 24\"\n",
              "       width=\"24px\">\n",
              "    <path d=\"M0 0h24v24H0V0z\" fill=\"none\"/>\n",
              "    <path d=\"M18.56 5.44l.94 2.06.94-2.06 2.06-.94-2.06-.94-.94-2.06-.94 2.06-2.06.94zm-11 1L8.5 8.5l.94-2.06 2.06-.94-2.06-.94L8.5 2.5l-.94 2.06-2.06.94zm10 10l.94 2.06.94-2.06 2.06-.94-2.06-.94-.94-2.06-.94 2.06-2.06.94z\"/><path d=\"M17.41 7.96l-1.37-1.37c-.4-.4-.92-.59-1.43-.59-.52 0-1.04.2-1.43.59L10.3 9.45l-7.72 7.72c-.78.78-.78 2.05 0 2.83L4 21.41c.39.39.9.59 1.41.59.51 0 1.02-.2 1.41-.59l7.78-7.78 2.81-2.81c.8-.78.8-2.07 0-2.86zM5.41 20L4 18.59l7.72-7.72 1.47 1.35L5.41 20z\"/>\n",
              "  </svg>\n",
              "      </button>\n",
              "      \n",
              "  <style>\n",
              "    .colab-df-container {\n",
              "      display:flex;\n",
              "      flex-wrap:wrap;\n",
              "      gap: 12px;\n",
              "    }\n",
              "\n",
              "    .colab-df-convert {\n",
              "      background-color: #E8F0FE;\n",
              "      border: none;\n",
              "      border-radius: 50%;\n",
              "      cursor: pointer;\n",
              "      display: none;\n",
              "      fill: #1967D2;\n",
              "      height: 32px;\n",
              "      padding: 0 0 0 0;\n",
              "      width: 32px;\n",
              "    }\n",
              "\n",
              "    .colab-df-convert:hover {\n",
              "      background-color: #E2EBFA;\n",
              "      box-shadow: 0px 1px 2px rgba(60, 64, 67, 0.3), 0px 1px 3px 1px rgba(60, 64, 67, 0.15);\n",
              "      fill: #174EA6;\n",
              "    }\n",
              "\n",
              "    [theme=dark] .colab-df-convert {\n",
              "      background-color: #3B4455;\n",
              "      fill: #D2E3FC;\n",
              "    }\n",
              "\n",
              "    [theme=dark] .colab-df-convert:hover {\n",
              "      background-color: #434B5C;\n",
              "      box-shadow: 0px 1px 3px 1px rgba(0, 0, 0, 0.15);\n",
              "      filter: drop-shadow(0px 1px 2px rgba(0, 0, 0, 0.3));\n",
              "      fill: #FFFFFF;\n",
              "    }\n",
              "  </style>\n",
              "\n",
              "      <script>\n",
              "        const buttonEl =\n",
              "          document.querySelector('#df-8545c630-1932-416a-abdf-7d2b0d438655 button.colab-df-convert');\n",
              "        buttonEl.style.display =\n",
              "          google.colab.kernel.accessAllowed ? 'block' : 'none';\n",
              "\n",
              "        async function convertToInteractive(key) {\n",
              "          const element = document.querySelector('#df-8545c630-1932-416a-abdf-7d2b0d438655');\n",
              "          const dataTable =\n",
              "            await google.colab.kernel.invokeFunction('convertToInteractive',\n",
              "                                                     [key], {});\n",
              "          if (!dataTable) return;\n",
              "\n",
              "          const docLinkHtml = 'Like what you see? Visit the ' +\n",
              "            '<a target=\"_blank\" href=https://colab.research.google.com/notebooks/data_table.ipynb>data table notebook</a>'\n",
              "            + ' to learn more about interactive tables.';\n",
              "          element.innerHTML = '';\n",
              "          dataTable['output_type'] = 'display_data';\n",
              "          await google.colab.output.renderOutput(dataTable, element);\n",
              "          const docLink = document.createElement('div');\n",
              "          docLink.innerHTML = docLinkHtml;\n",
              "          element.appendChild(docLink);\n",
              "        }\n",
              "      </script>\n",
              "    </div>\n",
              "  </div>\n",
              "  "
            ]
          },
          "metadata": {},
          "execution_count": 10
        }
      ],
      "source": [
        "# BEGIN CODE HERE\n",
        "df1 = df[df['thalach'] > 150]\n",
        "selected = df1.drop(columns=[\"trestbps\", \"fbs\", \"restecg\", \"thalach\",\t\"exang\",\t\"oldpeak\",\t\"slope\",\t\"ca\",\t\"thal\"])\n",
        "#END CODE HERE\n",
        "selected"
      ]
    },
    {
      "cell_type": "markdown",
      "metadata": {
        "deletable": false,
        "editable": false,
        "id": "d_8E3vdsSe_h",
        "nbgrader": {
          "cell_type": "markdown",
          "checksum": "07c2f55dbfb129d7f518a1e65cf158d2",
          "grade": false,
          "grade_id": "cell-ec91fa8f3d207a07",
          "locked": true,
          "schema_version": 3,
          "solution": false
        }
      },
      "source": [
        "## 2.0 Linear Models ##\n",
        "\n",
        "In this part of the excersice you are going to build a logistic regression model from scratch."
      ]
    },
    {
      "cell_type": "markdown",
      "metadata": {
        "deletable": false,
        "editable": false,
        "id": "sJMbzOu6QGqL",
        "nbgrader": {
          "cell_type": "markdown",
          "checksum": "500e359861de99caea19bbc01977a10c",
          "grade": false,
          "grade_id": "cell-5dbf93d86dbdf181",
          "locked": true,
          "schema_version": 3,
          "solution": false
        }
      },
      "source": [
        "**2.1 Exercise:** Implement and test the sigmoid function using numpy. (An example of an expected outcome is also provided)\n",
        "\n",
        "sigmoid function:\n",
        "$$\\sigma(t)= \\dfrac{1}{1 + exp(-t)}$$"
      ]
    },
    {
      "cell_type": "code",
      "execution_count": 14,
      "metadata": {
        "colab": {
          "base_uri": "https://localhost:8080/"
        },
        "id": "iQ5TRRkKWYQQ",
        "outputId": "49a3b2f4-55ce-42fc-a7cf-7b9c787a396a"
      },
      "outputs": [
        {
          "output_type": "stream",
          "name": "stdout",
          "text": [
            "[0.99908895 0.73105858 0.99987661]\n"
          ]
        }
      ],
      "source": [
        "from numpy import exp\n",
        "def sigmoid(t):\n",
        "    \"\"\"\n",
        "    Compute the sigmoid of t\n",
        "    Arguments:\n",
        "    t -- A numpy array of any size\n",
        "\n",
        "    Return:\n",
        "    s -- sigmoid(t)\n",
        "    \"\"\"\n",
        "    # BEGIN CODE HERE\n",
        "    return  (1 / (1 + np.exp(-t)))\n",
        "    #END CODE HERE\n",
        "\n",
        "x = np.array([7, 1, 9])\n",
        "# BEGIN CODE HERE\n",
        "# Call the function given the variable x and print it\n",
        "sig = sigmoid(x)\n",
        "print(sig)\n",
        "#END CODE HERE"
      ]
    },
    {
      "cell_type": "markdown",
      "metadata": {
        "deletable": false,
        "editable": false,
        "id": "KFYp1zjbRt9p",
        "nbgrader": {
          "cell_type": "markdown",
          "checksum": "a4307fe509f7462d71b458340007a333",
          "grade": false,
          "grade_id": "cell-b79127fca8834e46",
          "locked": true,
          "schema_version": 3,
          "solution": false
        }
      },
      "source": [
        "**2.2 Exercise**: Implement parameter initialization in the cell below. You have to initialize w (weight vector) and b (bias) with zeros. Then, run the function using the **dim** variable. *(An example of an expected outcome is also provided)*"
      ]
    },
    {
      "cell_type": "code",
      "execution_count": 12,
      "metadata": {
        "colab": {
          "base_uri": "https://localhost:8080/"
        },
        "id": "xLpXRYx5WgxZ",
        "outputId": "b36f5db5-dd47-4bec-bf65-8c13399bd30a"
      },
      "outputs": [
        {
          "output_type": "stream",
          "name": "stdout",
          "text": [
            "w = [0. 0. 0. 0. 0. 0. 0.]\n",
            "b = 0.0\n"
          ]
        }
      ],
      "source": [
        "def initialize(dim):\n",
        "    \"\"\"  \n",
        "    Argument:\n",
        "    dim -- the number of parameters\n",
        "\n",
        "    Returns:\n",
        "    w -- initialized vector of shape (1, dim)\n",
        "    b -- initialized bias weight\n",
        "    \"\"\"\n",
        "    # BEGIN CODE HERE\n",
        "    w = np.zeros(dim)\n",
        "    b = 0.0\n",
        "    return w, b\n",
        "    #END CODE HERE\n",
        "dim = 7\n",
        "# BEGIN CODE HERE\n",
        "w, b = initialize(dim)\n",
        "#END CODE HERE\n",
        "print (\"w = \" + str(w))\n",
        "print (\"b = \" + str(b))"
      ]
    },
    {
      "cell_type": "markdown",
      "metadata": {
        "deletable": false,
        "editable": false,
        "id": "aUOVogDFZZ3f",
        "nbgrader": {
          "cell_type": "markdown",
          "checksum": "a844bcdbaac95f0f867fe5eb3e0a1eaa",
          "grade": false,
          "grade_id": "cell-15b03530bea75821",
          "locked": true,
          "schema_version": 3,
          "solution": false
        }
      },
      "source": [
        "**2.3 Exercise**: Compute the cost of logistic regression using the sigmoid function above. You can find the dot product of two arrays by using the [np.dot()](https://docs.scipy.org/doc/numpy/reference/generated/numpy.dot.html). Check slide 39 (41). (Tip 1: you should append b (weight of bias) in front of w array, Tip 2: Pay attention to 'ML Course - Linear Models' covered in class to see how to combine $x_0$ with the other variables of $X$. Tip 3: You may use np.array, np.c_, np.dot, np.log, np.sum). Finally, run the function and check the results. *(An example of an expected outcome is also provided)*"
      ]
    },
    {
      "cell_type": "code",
      "execution_count": 16,
      "metadata": {
        "colab": {
          "base_uri": "https://localhost:8080/"
        },
        "id": "BxX2b8KzXGvv",
        "outputId": "56a62072-d818-4bac-9dd5-2a5543bbc992"
      },
      "outputs": [
        {
          "output_type": "stream",
          "name": "stdout",
          "text": [
            "Sigmoid: [0.9998766054240137, 0.999983298578152, 0.9781187290638694]\n",
            "Cost: 6.674088106737919\n"
          ]
        }
      ],
      "source": [
        "from numpy.ma.extras import column_stack\n",
        "def compute_cost(w,b,X,Y):\n",
        "    \"\"\"\n",
        "    Arguments:\n",
        "    w -- weights\n",
        "    b -- bias\n",
        "    X -- input data\n",
        "    Y -- target or label vector\n",
        "\n",
        "    Return:\n",
        "    sigma -- the sigmoid of the z\n",
        "    cost -- cost for logistic regression\n",
        "    \"\"\"\n",
        "    # BEGIN CODE HERE\n",
        "    b = np.append(w, b)\n",
        "    X = np.append(X, np.ones((len(X), 1)), axis = 1)\n",
        "    sigma = sigmoid(np.dot(X, b))\n",
        "    loss = -Y * np.log(sigma) - ((1-Y) * np.log(1-sigma))\n",
        "    cost = (1/len(X)) * sum(loss)\n",
        "    return sigma, cost\n",
        "    #END CODE HERE\n",
        "\n",
        "w, b, X, Y = np.array([0.,1.]), 7., np.array([[0.,2.],[3.,4.],[-8.,-3.2]]), np.array([0,0,1])\n",
        "# BEGIN CODE HERE\n",
        "sigma, cost = compute_cost(w, b, X, Y)\n",
        "#END CODE HERE\n",
        "print(\"Sigmoid:\",[i for i in sigma])\n",
        "print(\"Cost:\", str(cost))"
      ]
    },
    {
      "cell_type": "markdown",
      "metadata": {
        "deletable": false,
        "editable": false,
        "id": "j15xZTmQdX1e",
        "nbgrader": {
          "cell_type": "markdown",
          "checksum": "d4645f9b41fd8bd1541f9d18ee26d514",
          "grade": false,
          "grade_id": "cell-11775dbf025eb93d",
          "locked": true,
          "schema_version": 3,
          "solution": false
        }
      },
      "source": [
        "**2.4 Exercise** Compute the gradient of w and b. Compute grad as in slide 40 (Compute X and bw like above). Then. run the function with the provided example. *(An example of an expected outcome is also provided)*"
      ]
    },
    {
      "cell_type": "code",
      "execution_count": 19,
      "metadata": {
        "colab": {
          "base_uri": "https://localhost:8080/"
        },
        "id": "Wn6_4LVgXh76",
        "outputId": "825dbecf-9220-4f62-efce-1d6a9deaf22d"
      },
      "outputs": [
        {
          "output_type": "stream",
          "name": "stdout",
          "text": [
            "dw = [1.05833335 2.02323549]\n",
            "db = 0.6593262110220117\n"
          ]
        }
      ],
      "source": [
        "def gradient(w, b, X, Y):\n",
        "    \"\"\"\n",
        "    Arguments:\n",
        "    w -- weights\n",
        "    b -- bias\n",
        "    X -- input data\n",
        "    Y -- target or label vector\n",
        "\n",
        "    Return:\n",
        "    dw -- gradient of the loss with respect to w (numpy array) \n",
        "    db -- gradient of the loss with respect to b (scalar)\n",
        "    \"\"\"\n",
        "    # BEGIN CODE HERE\n",
        "    b = np.append(w, b)\n",
        "    X = np.append(X, np.ones((len(X), 1)), axis = 1)\n",
        "    grad = (1 / len(X)) * np.dot(X.transpose(), (sigmoid(np.dot(X, b)) - Y))\n",
        "    dw = grad[0:2]\n",
        "    db = grad[2]\n",
        "    return dw, db\n",
        "    #END CODE HERE\n",
        "\n",
        "w, b, X, Y = np.array([0.,1.]), 7., np.array([[0.,2.],[3.,4.],[-8.,-3.2]]), np.array([0,0,1])\n",
        "# BEGIN CODE HERE\n",
        "dw, db = gradient(w, b, X, Y)\n",
        "#END CODE HERE\n",
        "print (\"dw = \" + str(dw))\n",
        "print (\"db = \" + str(db))"
      ]
    },
    {
      "cell_type": "markdown",
      "metadata": {
        "deletable": false,
        "editable": false,
        "id": "kFEC6UNrpFie",
        "nbgrader": {
          "cell_type": "markdown",
          "checksum": "350a080a31e3e7bef3110bb848618858",
          "grade": false,
          "grade_id": "cell-a89314f33d6ef4cf",
          "locked": true,
          "schema_version": 3,
          "solution": false
        }
      },
      "source": [
        "**2.5 Exercise** Implement the parameters update function below. The goal is to learn $w$ and $b$ by minimizing the cost function $J$. For a parameter $\\theta$, the update rule is $ \\theta = \\theta - \\alpha \\text{ } d\\theta$, where $\\alpha$ is the learning rate. Tip: Use the functions developed above. Then, run the function on the provided example and check the results. *(An example of an expected outcome is also provided)*"
      ]
    },
    {
      "cell_type": "code",
      "execution_count": 20,
      "metadata": {
        "colab": {
          "base_uri": "https://localhost:8080/"
        },
        "id": "FsORMiuRX958",
        "outputId": "3528218c-4f59-4fe2-b49a-8e961b7e639a"
      },
      "outputs": [
        {
          "output_type": "stream",
          "name": "stdout",
          "text": [
            "Cost after iteration 0: 6.674088\n",
            "w = [-0.86922439 -0.75369422]\n",
            "b = 6.41285705899682\n",
            "dw = [0.70520811 1.6022051 ]\n",
            "db = 0.5660331842479157\n"
          ]
        }
      ],
      "source": [
        "def update_parameters(w, b, X, Y, num_iterations = 100, learning_rate = 0.009):\n",
        "    \"\"\"\n",
        "    This function optimizes w and b by running a gradient descent algorithm\n",
        "\n",
        "      Arguments:\n",
        "      w -- weights\n",
        "      b -- bias\n",
        "      X -- input data\n",
        "      Y -- target or label vector\n",
        "      num_iterations -- number of iterations of the optimization loop\n",
        "      learning_rate -- learning rate of the gradient descent update rule\n",
        "\n",
        "      Returns:\n",
        "      params -- dictionary containing the weights w and bias b\n",
        "      grads -- dictionary containing the gradients of the weights and bias with respect to the cost function.\n",
        "    \"\"\"\n",
        "    for i in range(num_iterations):\n",
        "\n",
        "        # BEGIN CODE HERE\n",
        "        wprev = w\n",
        "        bprev = b\n",
        "        # Cost and gradient calculation\n",
        "        sigma, cost = compute_cost(wprev, bprev, X, Y)\n",
        "        dw, db = gradient(wprev, bprev, X, Y)\n",
        "        # Update rule\n",
        "        w = wprev - learning_rate * dw\n",
        "        b = bprev - learning_rate * db\n",
        "        # END CODE HERE\n",
        "\n",
        "        # Print the cost every 100 training iterations\n",
        "        if i % 100 == 0:\n",
        "            print (\"Cost after iteration %i: %f\" %(i, cost)) \n",
        "\n",
        "    return w, b, dw, db\n",
        "\n",
        "w, b, X, Y = np.array([0.,1.]), 7., np.array([[0.,2.],[3.,4.],[-8.,-3.2]]), np.array([0,0,1])\n",
        "num_iterations= 100\n",
        "learning_rate = 0.009\n",
        "\n",
        "# BEGIN CODE HERE\n",
        "w, b, dw, db = update_parameters(w, b, X, Y, num_iterations, learning_rate)\n",
        "# END CODE HERE\n",
        "print (\"w = \" + str(w))\n",
        "print (\"b = \" + str(b))\n",
        "print (\"dw = \" + str(dw))\n",
        "print (\"db = \" + str(db))"
      ]
    },
    {
      "cell_type": "markdown",
      "metadata": {
        "deletable": false,
        "editable": false,
        "id": "3bnW_pZtuYc2",
        "nbgrader": {
          "cell_type": "markdown",
          "checksum": "dcd98e8e2455a816b1dd8790a5306a59",
          "grade": false,
          "grade_id": "cell-206c6de13177420f",
          "locked": true,
          "schema_version": 3,
          "solution": false
        }
      },
      "source": [
        "**2.6 Predict** Implement the predict() function by calculating the $y'$ and then convert the probabilities to actual predictions 0 or 1. Finally, run the function with the provided example. *(An example of an expected outcome is also provided)*"
      ]
    },
    {
      "cell_type": "code",
      "execution_count": 23,
      "metadata": {
        "colab": {
          "base_uri": "https://localhost:8080/"
        },
        "deletable": false,
        "editable": false,
        "id": "q2P-3OBaxBLT",
        "nbgrader": {
          "cell_type": "code",
          "checksum": "c05dc02ef30d38e3b6cf8fae342bc4e3",
          "grade": true,
          "grade_id": "cell-dc9eb4e2a0da0d10",
          "locked": true,
          "points": 5,
          "schema_version": 3,
          "solution": false
        },
        "outputId": "7742faa0-cddd-47c4-8ee9-198902cd55c4"
      },
      "outputs": [
        {
          "output_type": "stream",
          "name": "stdout",
          "text": [
            "predictions = [1. 1. 0.]\n"
          ]
        }
      ],
      "source": [
        "def predict(w, b, X):\n",
        "    '''\n",
        "    Predict whether the label is 0 or 1 using learned logistic regression parameters (w, b)\n",
        "    \n",
        "    Arguments:\n",
        "    w -- weights\n",
        "    b -- bias, a scalar\n",
        "    X -- input data\n",
        "    \n",
        "    Returns:\n",
        "    Y_prediction -- a numpy array (vector) containing all predictions (0/1) for the examples in X\n",
        "    '''\n",
        "\n",
        "    # BEGIN CODE HERE\n",
        "    pred = np.zeros((len(X), 1))\n",
        "    b = np.append(w, b)\n",
        "    X = np.append(X, np.ones((len(X), 1)), axis = 1)\n",
        "    sigma = sigmoid(np.dot(X, b))\n",
        "    pred = np.round(sigma)\n",
        "    return pred\n",
        "    # END CODE HERE\n",
        "\n",
        "w = np.array([0.1124579,0.23106775])\n",
        "b = 0.2\n",
        "X = np.array([[0.,0.2],[-2.1,1.],[-2.2,-1.1]])\n",
        "prediction = predict(w, b, X)\n",
        "# BEGIN CODE HERE\n",
        "#prediction = ...\n",
        "# END CODE HERE\n",
        "print(\"predictions = \" + str(prediction))"
      ]
    },
    {
      "cell_type": "markdown",
      "metadata": {
        "deletable": false,
        "editable": false,
        "id": "LSEzK5Cc0E3X",
        "nbgrader": {
          "cell_type": "markdown",
          "checksum": "270bed39335e5969497ffeecd21c0630",
          "grade": false,
          "grade_id": "cell-4363754ff1f87e60",
          "locked": true,
          "schema_version": 3,
          "solution": false
        }
      },
      "source": [
        "**2.7 Exercise** Put all the above blocks in the right order to create a model in the function below."
      ]
    },
    {
      "cell_type": "code",
      "execution_count": 24,
      "metadata": {
        "id": "S2uiXZk0aAV2"
      },
      "outputs": [],
      "source": [
        "def model(X_train, Y_train, X_test, Y_test, num_iterations = 2000, learning_rate = 0.5):\n",
        "    \"\"\"\n",
        "    Builds the logistic regression model by calling the function you've implemented previously\n",
        "\n",
        "    Arguments:\n",
        "    X_train -- training set represented by a numpy array\n",
        "    Y_train -- training labels represented by a numpy array (vector) of shape (1, m_train)\n",
        "    X_test -- test set represented by a numpy array of shape\n",
        "    Y_test -- test labels represented by a numpy array (vector) of shape (1, m_test)\n",
        "    num_iterations -- hyperparameter representing the number of iterations to optimize the parameters\n",
        "    learning_rate -- hyperparameter representing the learning rate used in the update rule of update_parameters()\n",
        "\n",
        "    Returns:\n",
        "    d -- dictionary containing information about the model.\n",
        "    \"\"\"\n",
        "\n",
        "    # BEGIN CODE HERE\n",
        "\n",
        "    # initialize parameters\n",
        "    w, b = initialize(len(X_train))\n",
        "\n",
        "    # Gradient descent\n",
        "    w, b, dw, db = update_parameters(w, b, X_train, Y_train, num_iterations = 100, learning_rate = 0.009)\n",
        "    \n",
        "    # Predict test/train set examples\n",
        "    y_pred_test = predict(w, b, X_test)\n",
        "    y_pred_train = predict(w, b, X_train)\n",
        "\n",
        "    #END CODE HERE\n",
        "\n",
        "\n",
        "    # Print train/test Errors\n",
        "    print(\"train accuracy: {} %\".format(100 - np.mean(np.abs(y_pred_train - y_train)) * 100))\n",
        "    print(\"test accuracy: {} %\".format(100 - np.mean(np.abs(y_pred_test - y_test)) * 100))\n",
        "\n",
        "\n",
        "    d = {\"Y_prediction_test\": y_pred_test, \n",
        "        \"Y_prediction_train\" : y_pred_train, \n",
        "        \"w\" : w, \n",
        "        \"b\" : b,\n",
        "        \"learning_rate\" : learning_rate,\n",
        "        \"num_iterations\": num_iterations}\n",
        "\n",
        "    return d\n"
      ]
    },
    {
      "cell_type": "markdown",
      "metadata": {
        "deletable": false,
        "editable": false,
        "id": "eSv1oc0IgJUd",
        "nbgrader": {
          "cell_type": "markdown",
          "checksum": "cd21e5fc5056f1abfbe5e6ad62d1ab60",
          "grade": false,
          "grade_id": "cell-2ed9838dc6fc1c78",
          "locked": true,
          "schema_version": 3,
          "solution": false
        }
      },
      "source": [
        "**2.8 Exercise** Using the **df** from above assign to the **X** variable the values of the columns 'oldpeak' and 'thalach', and in the **y** variable the column 'target'. *(An example of an expected outcome (the plot) is also provided)*"
      ]
    },
    {
      "cell_type": "code",
      "execution_count": null,
      "metadata": {
        "deletable": false,
        "id": "NDzIkc6v1Uf8",
        "nbgrader": {
          "cell_type": "code",
          "checksum": "fe25dc25820215f1a4af84fb5b4c6702",
          "grade": true,
          "grade_id": "cell-8046bbd0795583df",
          "locked": false,
          "points": 5,
          "schema_version": 3,
          "solution": true
        }
      },
      "outputs": [],
      "source": [
        "import matplotlib.pyplot as plt\n",
        "\n",
        "# BEGIN CODE HERE\n",
        "\n",
        "X = #...\n",
        "y = #...\n",
        "#END CODE HERE\n",
        "\n",
        "\n",
        "plt.figure(figsize=(8,8))\n",
        "colors = ['blue' if i == 0 else 'red' for i in y]\n",
        "plt.scatter(X[:, 0], \n",
        "            X[:, 1],\n",
        "            alpha = .4, color=colors)"
      ]
    },
    {
      "cell_type": "markdown",
      "metadata": {
        "deletable": false,
        "editable": false,
        "id": "N6gklYbei7Te",
        "nbgrader": {
          "cell_type": "markdown",
          "checksum": "f0501b0063f279c1dfde4374a8c5abd3",
          "grade": false,
          "grade_id": "cell-911f6638e52cfc11",
          "locked": true,
          "schema_version": 3,
          "solution": false,
          "task": false
        }
      },
      "source": [
        "**2.9 Exercise** Split your dataset into train and test set and then use the model function to evaluate your model. Be careful to include both classes in train and test set. Finally, make a plot containing the samples and the line the model has learned. Use train_test_split from sklearn to split X and y to train and test sets of 50% and 50%, respectively. You should also use the shuffle parameter. [Train-test-split Documentation.](https://scikit-learn.org/stable/modules/generated/sklearn.model_selection.train_test_split.html#sklearn.model_selection.train_test_split) *(An example of an expected outcome is also provided)*"
      ]
    },
    {
      "cell_type": "code",
      "execution_count": null,
      "metadata": {
        "deletable": false,
        "id": "0e0BE1vJaEiM",
        "nbgrader": {
          "cell_type": "code",
          "checksum": "05e708a8bcfa86f52587ab70f8b000ce",
          "grade": true,
          "grade_id": "cell-199f5d6fb1cac508",
          "locked": false,
          "points": 5,
          "schema_version": 3,
          "solution": true,
          "task": false
        }
      },
      "outputs": [],
      "source": [
        "# BEGIN CODE HERE\n",
        "from sklearn.model_selection import train_test_split\n",
        "X_train, X_test, y_train, y_test =  #...\n",
        "#END CODE HERE\n",
        "\n",
        "d = model(X_train,y_train,X_test,y_test,num_iterations = 1000, learning_rate = 0.0001)\n",
        "\n",
        "# Plot again\n",
        "plt.figure(figsize=(8,8))\n",
        "colors = ['blue' if i == 0 else 'red' for i in y_train]\n",
        "plt.scatter(X_train[:, 0], X_train[:, 1], alpha = .4, color=colors)\n",
        "\n",
        "x_boundary = np.linspace(0, 4, 1000) # Return evenly spaced numbers over a specified interval.\n",
        "weights =  d['w'][0]\n",
        "\n",
        "# BEGIN CODE HERE\n",
        "y_boundary = #...\n",
        "#END CODE HERE\n",
        "\n",
        "plt.plot(x_boundary, y_boundary, color='black')"
      ]
    },
    {
      "cell_type": "markdown",
      "metadata": {
        "id": "RDlwjY4P2QXD"
      },
      "source": [
        "**2.10 Bonus Exercise:** This exercise is optional, but if you implement it you will receive a bonus. Moreover, it will make the following exercise much easier (+ it will help you in the future in general). Let's create a class containing all the neccessary functions to train a Logistic Regression model and make predictions.\n",
        "\n",
        "**self** represents the instance of the class. By using the **self** keyword we can access the attributes (public variables) and methods (functions) of the class in python [Source](https://www.geeksforgeeks.org/self-in-python-class/). It binds the attributes with the given arguments of an instance. Therefore, for the class MyLogisticRegression, we can create an instance of this class:\n",
        "\n",
        "```\n",
        "lr = MyLogisticRegression(...)\n",
        "```\n",
        "And we can use its public variables and methods\n",
        "```\n",
        "lr.num_iterations = 2000\n",
        "print(lr.num_iterations) #Will print the public variable\n",
        "```\n",
        "Hint: Inside the class, any shared public variable x should be accessed through 'self.x'.\n",
        "```\n",
        "def inner_function (self, y):\n",
        "  print(self.x, y)\n",
        "```"
      ]
    },
    {
      "cell_type": "code",
      "execution_count": null,
      "metadata": {
        "id": "esOzs2-KeUCx"
      },
      "outputs": [],
      "source": [
        "from numpy import exp\n",
        "\n",
        "class MyLogisticRegression:\n",
        "    def __init__(self, num_iterations=2000, learning_rate=0.004):\n",
        "      self.w = None\n",
        "      self.b = None\n",
        "      self.num_iterations = num_iterations\n",
        "      self.learning_rate = learning_rate\n",
        "\n",
        "    def _sigmoid(self, t):\n",
        "        #...\n",
        "\n",
        "    def _initialize(self, dim):\n",
        "        #....\n",
        "        #Note here that there should be no return command, because this function saves w and b in self (public variables of each instance)\n",
        "\n",
        "    def _compute_cost(self, X, Y):\n",
        "        #...\n",
        "\n",
        "    def _gradient(self, X, Y, sigma):\n",
        "        #...\n",
        "\n",
        "    def _update_parameters(self, X, Y):\n",
        "        #...\n",
        "\n",
        "    def predict(self, X):\n",
        "        #...\n",
        "\n",
        "    def fit_evaluate(self, X_train, Y_train, X_test, Y_test):\n",
        "        #...\n"
      ]
    },
    {
      "cell_type": "code",
      "execution_count": null,
      "metadata": {
        "id": "fHQgqRe5786m"
      },
      "outputs": [],
      "source": [
        "linearModel = MyLogisticRegression(1000, 0.0001)\n",
        "d = linearModel.fit_evaluate(X_train, y_train, X_test, y_test)"
      ]
    },
    {
      "cell_type": "markdown",
      "metadata": {
        "deletable": false,
        "editable": false,
        "id": "cL4U8X6rodey",
        "nbgrader": {
          "cell_type": "markdown",
          "checksum": "9fe28e603be5cc8992b63c695915b305",
          "grade": false,
          "grade_id": "cell-f379407e8f4b0d61",
          "locked": true,
          "schema_version": 3,
          "solution": false,
          "task": false
        }
      },
      "source": [
        "## 3.0 Regularization ## (2 points)\n",
        "\n",
        "Rewrite any of the above functions in the below block so as the Logistic Regression to have the option to run with **L1** and **L2** regularization. Rewrite only the functions needed. (Tip: If you use the class, this excercise is much easier. You should rewrite the class, changing the constructor of the class and only one more function to implement the regularization. Then, you will be able to call those commands for the different regularization parameters)\n",
        "\n",
        "```\n",
        "linearModel = MyLogisticRegression(1000, 0.0001, 'l1')\n",
        "linearModel = MyLogisticRegression(1000, 0.0001, 'l2')\n",
        "```\n"
      ]
    },
    {
      "cell_type": "code",
      "execution_count": null,
      "metadata": {
        "deletable": false,
        "id": "oemHripT8nvE",
        "nbgrader": {
          "cell_type": "code",
          "checksum": "59b6aba4f70a65a633cc67da4a35c1d0",
          "grade": true,
          "grade_id": "cell-00c4b14e03d90376",
          "locked": false,
          "points": 25,
          "schema_version": 3,
          "solution": true,
          "task": false
        }
      },
      "outputs": [],
      "source": [
        "### BEGIN CODE HERE\n",
        "pass\n",
        "\n",
        "#END CODE HERE"
      ]
    },
    {
      "cell_type": "code",
      "execution_count": null,
      "metadata": {
        "id": "4SyI-VtVvefd"
      },
      "outputs": [],
      "source": [
        "#You can freely test your code here"
      ]
    },
    {
      "cell_type": "markdown",
      "metadata": {
        "deletable": false,
        "editable": false,
        "id": "5UsPoeQ8VpmV",
        "nbgrader": {
          "cell_type": "markdown",
          "checksum": "f9786e9d2abc991be3dc7dd11946c0c9",
          "grade": false,
          "grade_id": "cell-7b1bcd8fb3c836ee",
          "locked": true,
          "schema_version": 3,
          "solution": false,
          "task": false
        }
      },
      "source": [
        "## **Questions** ## (1 point)\n",
        "\n",
        "Answer below!\n",
        "1. What is the purpose of splitting the data into training and testing sets? [0.1]\n",
        "2. What is the role of the intercept in linear regression? Why is it important? [0.1]\n",
        "3. Your model should achieve around 70% accuracy in the test set. If you want to improve the accuracy what changes you should make? Report the changes and the results. [0.2]\n",
        "4. Besides using a specific number of iterations for your model what else you can do to stop the training? [0.2]\n",
        "5. Do you notice any differences when using the L1 or L2 regularization? Is so, why? If not, why? (Answer based on what you've learned in class) [0.2]\n",
        "6. What are some common applications of linear models in real-world scenarios? How do these models compare to other machine learning algorithms in terms of performance, and interpretability? [0.2]\n",
        "\n",
        "Bonus Question:\n",
        "*What parts of this assignment were not clear or misleading? Are there any other comments on this assignment?* "
      ]
    },
    {
      "cell_type": "code",
      "execution_count": null,
      "metadata": {
        "deletable": false,
        "id": "TNz5dOTw8hWz",
        "nbgrader": {
          "cell_type": "markdown",
          "checksum": "eb6ea3a1a4efda46c432400ce6058e66",
          "grade": true,
          "grade_id": "cell-daef52bcbcbb8de9",
          "locked": false,
          "points": 15,
          "schema_version": 3,
          "solution": true,
          "task": false
        }
      },
      "outputs": [],
      "source": [
        "YOUR ANSWER HERE"
      ]
    }
  ],
  "metadata": {
    "colab": {
      "provenance": []
    },
    "kernelspec": {
      "display_name": "Python 3",
      "language": "python",
      "name": "python3"
    },
    "language_info": {
      "codemirror_mode": {
        "name": "ipython",
        "version": 3
      },
      "file_extension": ".py",
      "mimetype": "text/x-python",
      "name": "python",
      "nbconvert_exporter": "python",
      "pygments_lexer": "ipython3",
      "version": "3.8.9"
    },
    "vscode": {
      "interpreter": {
        "hash": "31f2aee4e71d21fbe5cf8b01ff0e069b9275f58929596ceb00d14d90e3e16cd6"
      }
    }
  },
  "nbformat": 4,
  "nbformat_minor": 0
}